{
  "nbformat": 4,
  "nbformat_minor": 0,
  "metadata": {
    "colab": {
      "provenance": [],
      "collapsed_sections": [
        "f8FsICNlGdbq",
        "5egjKqozGyxj",
        "lyhaOUU6KX3P",
        "rV3myzlHv2GC",
        "vXxV-3TSy_sM"
      ],
      "authorship_tag": "ABX9TyN42YclGpNSIB+ZQvN6KDcE",
      "include_colab_link": true
    },
    "kernelspec": {
      "name": "python3",
      "display_name": "Python 3"
    },
    "language_info": {
      "name": "python"
    }
  },
  "cells": [
    {
      "cell_type": "markdown",
      "metadata": {
        "id": "view-in-github",
        "colab_type": "text"
      },
      "source": [
        "<a href=\"https://colab.research.google.com/drive/1GmsD82k4ka0kypSIiezrFQROtbF3DFQ8?usp=sharing" target=\"_parent\"><img src=\"https://colab.research.google.com/assets/colab-badge.svg\" alt=\"Open In Colab\"/></a>"
      ]
    },
    {
      "cell_type": "markdown",
      "source": [
        "# Importing Necessery Libraries"
      ],
      "metadata": {
        "id": "f8FsICNlGdbq"
      }
    },
    {
      "cell_type": "code",
      "execution_count": 2,
      "metadata": {
        "id": "gmmom2yXGFi2"
      },
      "outputs": [],
      "source": [
        "import pandas as pd\n",
        "import seaborn as sn\n",
        "import numpy as np"
      ]
    },
    {
      "cell_type": "markdown",
      "source": [
        "# Loading Iris Dataset\n",
        "**Sepal: The outer parts of the flower (often green and leaf-like) that enclose a developing bud.**\n",
        "\n",
        "**Petal: The parts of a flower that are colored.**"
      ],
      "metadata": {
        "id": "5egjKqozGyxj"
      }
    },
    {
      "cell_type": "code",
      "source": [
        "sn.get_dataset_names()"
      ],
      "metadata": {
        "id": "GKp355pEG-A4"
      },
      "execution_count": null,
      "outputs": []
    },
    {
      "cell_type": "code",
      "source": [
        "df =  sn.load_dataset('iris')"
      ],
      "metadata": {
        "id": "B6_0kArLHeAw"
      },
      "execution_count": 4,
      "outputs": []
    },
    {
      "cell_type": "code",
      "source": [
        "df.columns"
      ],
      "metadata": {
        "id": "i0P-MTgxHvHn",
        "colab": {
          "base_uri": "https://localhost:8080/"
        },
        "outputId": "6140407c-ab3d-4f03-98f1-d54240c0d2c3"
      },
      "execution_count": 5,
      "outputs": [
        {
          "output_type": "execute_result",
          "data": {
            "text/plain": [
              "Index(['sepal_length', 'sepal_width', 'petal_length', 'petal_width',\n",
              "       'species'],\n",
              "      dtype='object')"
            ]
          },
          "metadata": {},
          "execution_count": 5
        }
      ]
    },
    {
      "cell_type": "markdown",
      "source": [
        "# Dropping Rows with Missing Values"
      ],
      "metadata": {
        "id": "lyhaOUU6KX3P"
      }
    },
    {
      "cell_type": "code",
      "source": [
        "df = df.dropna(axis = 0)  # axis = 0 indicating rows and axis = 1 indicates columns"
      ],
      "metadata": {
        "id": "f_KigHJ-Kgko"
      },
      "execution_count": 6,
      "outputs": []
    },
    {
      "cell_type": "code",
      "source": [
        "df.head()"
      ],
      "metadata": {
        "id": "948fuRePK6kG"
      },
      "execution_count": null,
      "outputs": []
    },
    {
      "cell_type": "markdown",
      "source": [
        "# Selecting The Prediction Target\n",
        "Here  y is a variable that contains a dataseries(species) , which is the **Prediction Target** . In Machine Learning, it is what we want to predict or understand.\n",
        "\n",
        "But as model takes numeric value and y(target value) is in string. So we need to convert it into numeric.\n",
        "\n",
        "Let's consider:\n",
        "\n",
        "'setosa': 1, 'versicolor': 2, 'virginica': 3\n"
      ],
      "metadata": {
        "id": "rV3myzlHv2GC"
      }
    },
    {
      "cell_type": "code",
      "source": [
        "mapping = {'setosa': 1, 'versicolor': 2, 'virginica': 3}\n",
        "df['species_to_number'] = df['species'].map(mapping) # map() is used to replace values in a column based on a provided dictionary\n",
        "df\n",
        "\n",
        "y = df.species_to_number\n",
        "y"
      ],
      "metadata": {
        "id": "8-hRvw6PL5zf"
      },
      "execution_count": null,
      "outputs": []
    },
    {
      "cell_type": "markdown",
      "source": [
        "# Feature Choosing\n",
        "Features are the columns that does the job of predicting.\n",
        "\n",
        "Usually we choose all the columns as features except the Prediction Target column,\n",
        "\n",
        "On the other hand, it is a nice to choose some of the features that are good for predicting the target, and get rid of the rest as Too many features may lead to curse of dimensionality. But this is not the case for small dataset. This is for big datasets with 100s of features.\n",
        "\n",
        "\n"
      ],
      "metadata": {
        "id": "vXxV-3TSy_sM"
      }
    },
    {
      "cell_type": "code",
      "source": [
        "features = ['sepal_length', 'sepal_width', 'petal_length', 'petal_width']\n",
        "x = df[features]\n",
        "x.head()"
      ],
      "metadata": {
        "id": "7Jk3JZDJ1Bth"
      },
      "execution_count": null,
      "outputs": []
    },
    {
      "cell_type": "markdown",
      "source": [
        "# SDFPE\n",
        "S -> Split the Dataset into **Train** and **Test** Data\n",
        "\n",
        "D -> Define\n",
        "\n",
        "F -> Fit\n",
        "\n",
        "P -> Predict\n",
        "\n",
        "E -> Evaluate"
      ],
      "metadata": {
        "id": "9eQ_k7tL2I0u"
      }
    },
    {
      "cell_type": "markdown",
      "source": [
        "## Split The Dataset"
      ],
      "metadata": {
        "id": "6e-I6VMe25cd"
      }
    },
    {
      "cell_type": "code",
      "source": [
        "from sklearn.model_selection import train_test_split\n",
        "\n",
        "train_x, test_x, train_y, test_y = train_test_split(x, y, random_state=1)"
      ],
      "metadata": {
        "id": "xABfK-R12x-J"
      },
      "execution_count": 17,
      "outputs": []
    },
    {
      "cell_type": "markdown",
      "source": [
        "## Define The Model"
      ],
      "metadata": {
        "id": "fu03Waxg4IER"
      }
    },
    {
      "cell_type": "code",
      "source": [
        "from sklearn.tree import DecisionTreeRegressor\n",
        "\n",
        "model = DecisionTreeRegressor(random_state=1)"
      ],
      "metadata": {
        "id": "zkMuEdTF4N26"
      },
      "execution_count": 18,
      "outputs": []
    },
    {
      "cell_type": "markdown",
      "source": [
        "## Fit The Model\n",
        "We will fit the model with **Train** data.\n"
      ],
      "metadata": {
        "id": "PFfeAC-d4mmg"
      }
    },
    {
      "cell_type": "code",
      "source": [
        "model.fit(train_x, train_y)"
      ],
      "metadata": {
        "id": "lxiMYMxa4xqV"
      },
      "execution_count": null,
      "outputs": []
    },
    {
      "cell_type": "markdown",
      "source": [
        "## Prediction using the **test** data,\n",
        "\n",
        " Using Test data(test_x,test_y) during prediction is necessary to see how exactly the model works with the unseen ones!"
      ],
      "metadata": {
        "id": "ioWKwfYnySxw"
      }
    },
    {
      "cell_type": "code",
      "source": [
        "test_pred = model.predict(test_x)\n",
        "test_pred"
      ],
      "metadata": {
        "id": "sOSK24syy_QC"
      },
      "execution_count": null,
      "outputs": []
    },
    {
      "cell_type": "markdown",
      "source": [
        "## Evaluate the Model\n",
        "\n",
        "Checking the Accuracy of Model is the main purpose of this step.\n",
        "\n",
        "**Accuracy** means How many predictions were correct.\n",
        "\n",
        "One of the metric that is used to predict the model accuracy is called\n",
        "**MAE** (Mean Absolute Error).\n",
        "\n"
      ],
      "metadata": {
        "id": "L9Nxid5MzVI0"
      }
    },
    {
      "cell_type": "code",
      "source": [
        "from sklearn.metrics import mean_absolute_error\n",
        "\n",
        "mae = mean_absolute_error(test_y, test_pred)\n",
        "\n",
        "Accuracy = 1 - mae\n",
        "Accuracy\n"
      ],
      "metadata": {
        "colab": {
          "base_uri": "https://localhost:8080/"
        },
        "id": "0Y5B2YLJ04DR",
        "outputId": "44d7ac88-be27-4cd6-9615-dd59daae1b93"
      },
      "execution_count": 23,
      "outputs": [
        {
          "output_type": "execute_result",
          "data": {
            "text/plain": [
              "0.9736842105263158"
            ]
          },
          "metadata": {},
          "execution_count": 23
        }
      ]
    },
    {
      "cell_type": "code",
      "source": [
        "#or \"accuracy_score\" can be used\n",
        "from sklearn.metrics import accuracy_score\n",
        "\n",
        "accuracy = accuracy_score(test_y, test_pred)\n",
        "accuracy"
      ],
      "metadata": {
        "colab": {
          "base_uri": "https://localhost:8080/"
        },
        "id": "AugddFaR7cDB",
        "outputId": "80963fd0-c9b4-4062-ad37-2b40b9e70bb1"
      },
      "execution_count": 25,
      "outputs": [
        {
          "output_type": "execute_result",
          "data": {
            "text/plain": [
              "0.9736842105263158"
            ]
          },
          "metadata": {},
          "execution_count": 25
        }
      ]
    },
    {
      "cell_type": "markdown",
      "source": [
        "# In Closing\n",
        "\n",
        "Needless to say, this is not the most optimized one. But this one can be a great starting point as a very first ML project."
      ],
      "metadata": {
        "id": "quD5Tyoc2DBE"
      }
    }
  ]
}
